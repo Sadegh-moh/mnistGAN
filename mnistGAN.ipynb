{
  "cells": [
    {
      "cell_type": "markdown",
      "source": [
        "# libraries"
      ],
      "metadata": {
        "id": "Wouvb7TW45Rn"
      }
    },
    {
      "cell_type": "code",
      "execution_count": 1,
      "metadata": {
        "id": "TxRkOFRS43U4"
      },
      "outputs": [],
      "source": [
        "import torch\n",
        "import torch.nn as nn\n",
        "import torch.nn.functional as F\n",
        "import torch.optim as optim\n",
        "from torchvision import datasets, transforms\n",
        "from torch.autograd import Variable\n",
        "from torchvision.utils import save_image"
      ]
    },
    {
      "cell_type": "markdown",
      "source": [
        "Let's set device"
      ],
      "metadata": {
        "id": "h_PJXTx5EgOX"
      }
    },
    {
      "cell_type": "code",
      "source": [
        "device = torch.device('cuda' if torch.cuda.is_available() else 'cpu')\n",
        "device"
      ],
      "metadata": {
        "colab": {
          "base_uri": "https://localhost:8080/"
        },
        "id": "mLYJXaeK5C0A",
        "outputId": "c4bf25ea-756a-409a-af62-5e03c4bc77ea"
      },
      "execution_count": 2,
      "outputs": [
        {
          "output_type": "execute_result",
          "data": {
            "text/plain": [
              "device(type='cuda')"
            ]
          },
          "metadata": {},
          "execution_count": 2
        }
      ]
    },
    {
      "cell_type": "code",
      "execution_count": 12,
      "metadata": {
        "id": "gdFzp6tz43U6"
      },
      "outputs": [],
      "source": [
        "bs = 100\n",
        "\n",
        "transform = transforms.Compose([\n",
        "    transforms.ToTensor(),\n",
        "    transforms.Normalize(mean=(0.5,), std=(0.5,))\n",
        "])\n",
        "\n",
        "\n",
        "train_dataset = datasets.MNIST(root='./mnist_data/', train=True, transform=transform, download=True)\n",
        "test_dataset = datasets.MNIST(root='./mnist_data/', train=False, transform=transform, download=False)\n",
        "\n",
        "train_loader = torch.utils.data.DataLoader(dataset=train_dataset, batch_size=bs, shuffle=True)\n",
        "test_loader = torch.utils.data.DataLoader(dataset=test_dataset, batch_size=bs, shuffle=False)"
      ]
    },
    {
      "cell_type": "code",
      "execution_count": 13,
      "metadata": {
        "id": "szSkpSld43U6"
      },
      "outputs": [],
      "source": [
        "class Generator(nn.Module):\n",
        "    def __init__(self, g_input_dim, g_output_dim):\n",
        "        super(Generator, self).__init__()\n",
        "        self.fc1 = nn.Linear(g_input_dim, 256)\n",
        "        self.fc2 = nn.Linear(self.fc1.out_features, self.fc1.out_features*2)\n",
        "        self.fc3 = nn.Linear(self.fc2.out_features, self.fc2.out_features*2)\n",
        "        self.fc4 = nn.Linear(self.fc3.out_features, g_output_dim)\n",
        "\n",
        "    def forward(self, x):\n",
        "        x = F.leaky_relu(self.fc1(x), 0.2)\n",
        "        x = F.leaky_relu(self.fc2(x), 0.2)\n",
        "        x = F.leaky_relu(self.fc3(x), 0.2)\n",
        "        return torch.tanh(self.fc4(x))\n",
        "\n",
        "class Discriminator(nn.Module):\n",
        "    def __init__(self, d_input_dim):\n",
        "        super(Discriminator, self).__init__()\n",
        "        self.fc1 = nn.Linear(d_input_dim, 1024)\n",
        "        self.fc2 = nn.Linear(self.fc1.out_features, self.fc1.out_features//2)\n",
        "        self.fc3 = nn.Linear(self.fc2.out_features, self.fc2.out_features//2)\n",
        "        self.fc4 = nn.Linear(self.fc3.out_features, 1)\n",
        "\n",
        "    def forward(self, x):\n",
        "        x = F.leaky_relu(self.fc1(x), 0.2)\n",
        "        x = F.dropout(x, 0.3)\n",
        "        x = F.leaky_relu(self.fc2(x), 0.2)\n",
        "        x = F.dropout(x, 0.3)\n",
        "        x = F.leaky_relu(self.fc3(x), 0.2)\n",
        "        x = F.dropout(x, 0.3)\n",
        "        return torch.sigmoid(self.fc4(x))"
      ]
    },
    {
      "cell_type": "code",
      "execution_count": 14,
      "metadata": {
        "colab": {
          "base_uri": "https://localhost:8080/"
        },
        "id": "8D7REZYj43U6",
        "outputId": "f5ca68fb-c5c6-4b32-aaae-db5a198a147a"
      },
      "outputs": [
        {
          "output_type": "stream",
          "name": "stderr",
          "text": [
            "/usr/local/lib/python3.11/dist-packages/torchvision/datasets/mnist.py:76: UserWarning: train_data has been renamed data\n",
            "  warnings.warn(\"train_data has been renamed data\")\n"
          ]
        }
      ],
      "source": [
        "# build network\n",
        "z_dim = 100\n",
        "mnist_dim = train_dataset.train_data.size(1) * train_dataset.train_data.size(2)\n",
        "\n",
        "G = Generator(g_input_dim = z_dim, g_output_dim = mnist_dim).to(device)\n",
        "D = Discriminator(mnist_dim).to(device)"
      ]
    },
    {
      "cell_type": "code",
      "execution_count": 6,
      "metadata": {
        "colab": {
          "base_uri": "https://localhost:8080/"
        },
        "id": "NCCuLO3x43U6",
        "outputId": "c6bcec62-4355-4382-8c72-b41ced98c9b3"
      },
      "outputs": [
        {
          "output_type": "execute_result",
          "data": {
            "text/plain": [
              "Generator(\n",
              "  (fc1): Linear(in_features=100, out_features=256, bias=True)\n",
              "  (fc2): Linear(in_features=256, out_features=512, bias=True)\n",
              "  (fc3): Linear(in_features=512, out_features=1024, bias=True)\n",
              "  (fc4): Linear(in_features=1024, out_features=784, bias=True)\n",
              ")"
            ]
          },
          "metadata": {},
          "execution_count": 6
        }
      ],
      "source": [
        "G"
      ]
    },
    {
      "cell_type": "code",
      "execution_count": 7,
      "metadata": {
        "colab": {
          "base_uri": "https://localhost:8080/"
        },
        "id": "hSlgS6dh43U7",
        "outputId": "1cabfcff-dfcb-4b9c-fa6d-71ddc58c9504"
      },
      "outputs": [
        {
          "output_type": "execute_result",
          "data": {
            "text/plain": [
              "Discriminator(\n",
              "  (fc1): Linear(in_features=784, out_features=1024, bias=True)\n",
              "  (fc2): Linear(in_features=1024, out_features=512, bias=True)\n",
              "  (fc3): Linear(in_features=512, out_features=256, bias=True)\n",
              "  (fc4): Linear(in_features=256, out_features=1, bias=True)\n",
              ")"
            ]
          },
          "metadata": {},
          "execution_count": 7
        }
      ],
      "source": [
        "D"
      ]
    },
    {
      "cell_type": "code",
      "execution_count": 15,
      "metadata": {
        "id": "5XtccGbg43U7"
      },
      "outputs": [],
      "source": [
        "# loss\n",
        "criterion = nn.BCELoss()\n",
        "\n",
        "# optimizer\n",
        "lr = 0.0002\n",
        "G_optimizer = optim.Adam(G.parameters(), lr = lr)\n",
        "D_optimizer = optim.Adam(D.parameters(), lr = lr)"
      ]
    },
    {
      "cell_type": "code",
      "execution_count": 16,
      "metadata": {
        "id": "aNc96SQG43U7"
      },
      "outputs": [],
      "source": [
        "def D_train(x):\n",
        "    #=======================Train the discriminator=======================#\n",
        "    D.zero_grad()\n",
        "\n",
        "    # train discriminator on real\n",
        "    x_real, y_real = x.view(-1, mnist_dim), torch.ones(bs, 1)\n",
        "    x_real, y_real = Variable(x_real.to(device)), Variable(y_real.to(device))\n",
        "\n",
        "    D_output = D(x_real)\n",
        "    D_real_loss = criterion(D_output, y_real)\n",
        "    D_real_score = D_output\n",
        "\n",
        "    # train discriminator on facke\n",
        "    z = Variable(torch.randn(bs, z_dim).to(device))\n",
        "    x_fake, y_fake = G(z), Variable(torch.zeros(bs, 1).to(device))\n",
        "\n",
        "    D_output = D(x_fake)\n",
        "    D_fake_loss = criterion(D_output, y_fake)\n",
        "    D_fake_score = D_output\n",
        "\n",
        "    # gradient backprop & optimize ONLY D's parameters\n",
        "    D_loss = D_real_loss + D_fake_loss\n",
        "    D_loss.backward()\n",
        "    D_optimizer.step()\n",
        "\n",
        "    return  D_loss.data.item()"
      ]
    },
    {
      "cell_type": "code",
      "execution_count": 17,
      "metadata": {
        "id": "QtQAUNEz43U8"
      },
      "outputs": [],
      "source": [
        "def G_train(x):\n",
        "    #=======================Train the generator=======================#\n",
        "    G.zero_grad()\n",
        "\n",
        "    z = Variable(torch.randn(bs, z_dim).to(device))\n",
        "    y = Variable(torch.ones(bs, 1).to(device))\n",
        "\n",
        "    G_output = G(z)\n",
        "    D_output = D(G_output)\n",
        "    G_loss = criterion(D_output, y)\n",
        "\n",
        "    # gradient backprop & optimize ONLY G's parameters\n",
        "    G_loss.backward()\n",
        "    G_optimizer.step()\n",
        "\n",
        "    return G_loss.data.item()"
      ]
    },
    {
      "cell_type": "code",
      "source": [
        "n_epoch = 100\n",
        "\n",
        "test_z = Variable(torch.randn(bs, z_dim).to(device))\n",
        "for epoch in range(1, n_epoch+1):\n",
        "    D_losses, G_losses = [], []\n",
        "    for batch_idx, (x, _) in enumerate(train_loader):\n",
        "        D_losses.append(D_train(x))\n",
        "        G_losses.append(G_train(x))\n",
        "\n",
        "    with torch.no_grad():\n",
        "\n",
        "        generated = G(test_z)\n",
        "        save_image(generated.view(generated.size(0), 1, 28, 28), f'./samples/sample{epoch}.png')\n",
        "\n",
        "    print('[%d/%d]: loss_d: %.3f, loss_g: %.3f' % (\n",
        "        epoch, n_epoch, torch.mean(torch.FloatTensor(D_losses)), torch.mean(torch.FloatTensor(G_losses))))\n"
      ],
      "metadata": {
        "colab": {
          "base_uri": "https://localhost:8080/"
        },
        "id": "6s-cQu5U9y-p",
        "outputId": "06a56fa7-23a5-4c6e-9ba3-365389516744"
      },
      "execution_count": 30,
      "outputs": [
        {
          "output_type": "stream",
          "name": "stdout",
          "text": [
            "[1/100]: loss_d: 1.097, loss_g: 1.220\n",
            "[2/100]: loss_d: 1.091, loss_g: 1.222\n",
            "[3/100]: loss_d: 1.074, loss_g: 1.242\n",
            "[4/100]: loss_d: 1.096, loss_g: 1.208\n",
            "[5/100]: loss_d: 1.118, loss_g: 1.199\n",
            "[6/100]: loss_d: 1.114, loss_g: 1.176\n",
            "[7/100]: loss_d: 1.116, loss_g: 1.195\n",
            "[8/100]: loss_d: 1.111, loss_g: 1.189\n",
            "[9/100]: loss_d: 1.140, loss_g: 1.128\n",
            "[10/100]: loss_d: 1.136, loss_g: 1.137\n",
            "[11/100]: loss_d: 1.133, loss_g: 1.178\n",
            "[12/100]: loss_d: 1.133, loss_g: 1.161\n",
            "[13/100]: loss_d: 1.149, loss_g: 1.118\n",
            "[14/100]: loss_d: 1.161, loss_g: 1.112\n",
            "[15/100]: loss_d: 1.171, loss_g: 1.090\n",
            "[16/100]: loss_d: 1.179, loss_g: 1.056\n",
            "[17/100]: loss_d: 1.178, loss_g: 1.080\n",
            "[18/100]: loss_d: 1.186, loss_g: 1.052\n",
            "[19/100]: loss_d: 1.179, loss_g: 1.066\n",
            "[20/100]: loss_d: 1.196, loss_g: 1.023\n",
            "[21/100]: loss_d: 1.193, loss_g: 1.056\n",
            "[22/100]: loss_d: 1.179, loss_g: 1.065\n",
            "[23/100]: loss_d: 1.187, loss_g: 1.058\n",
            "[24/100]: loss_d: 1.196, loss_g: 1.035\n",
            "[25/100]: loss_d: 1.195, loss_g: 1.049\n",
            "[26/100]: loss_d: 1.196, loss_g: 1.038\n",
            "[27/100]: loss_d: 1.202, loss_g: 1.021\n",
            "[28/100]: loss_d: 1.210, loss_g: 1.003\n",
            "[29/100]: loss_d: 1.211, loss_g: 1.010\n",
            "[30/100]: loss_d: 1.211, loss_g: 1.012\n",
            "[31/100]: loss_d: 1.208, loss_g: 1.013\n",
            "[32/100]: loss_d: 1.209, loss_g: 0.998\n",
            "[33/100]: loss_d: 1.203, loss_g: 1.023\n",
            "[34/100]: loss_d: 1.215, loss_g: 0.991\n",
            "[35/100]: loss_d: 1.218, loss_g: 0.997\n",
            "[36/100]: loss_d: 1.219, loss_g: 0.993\n",
            "[37/100]: loss_d: 1.222, loss_g: 0.984\n",
            "[38/100]: loss_d: 1.215, loss_g: 0.994\n",
            "[39/100]: loss_d: 1.218, loss_g: 1.005\n",
            "[40/100]: loss_d: 1.224, loss_g: 0.981\n",
            "[41/100]: loss_d: 1.219, loss_g: 1.001\n",
            "[42/100]: loss_d: 1.229, loss_g: 0.984\n",
            "[43/100]: loss_d: 1.227, loss_g: 0.997\n",
            "[44/100]: loss_d: 1.232, loss_g: 0.978\n",
            "[45/100]: loss_d: 1.234, loss_g: 0.970\n",
            "[46/100]: loss_d: 1.231, loss_g: 0.958\n",
            "[47/100]: loss_d: 1.244, loss_g: 0.953\n",
            "[48/100]: loss_d: 1.235, loss_g: 0.976\n",
            "[49/100]: loss_d: 1.237, loss_g: 0.965\n",
            "[50/100]: loss_d: 1.245, loss_g: 0.938\n",
            "[51/100]: loss_d: 1.249, loss_g: 0.939\n",
            "[52/100]: loss_d: 1.236, loss_g: 0.976\n",
            "[53/100]: loss_d: 1.240, loss_g: 0.968\n",
            "[54/100]: loss_d: 1.243, loss_g: 0.963\n",
            "[55/100]: loss_d: 1.237, loss_g: 0.962\n",
            "[56/100]: loss_d: 1.254, loss_g: 0.927\n",
            "[57/100]: loss_d: 1.262, loss_g: 0.927\n",
            "[58/100]: loss_d: 1.240, loss_g: 0.972\n",
            "[59/100]: loss_d: 1.251, loss_g: 0.935\n",
            "[60/100]: loss_d: 1.252, loss_g: 0.948\n",
            "[61/100]: loss_d: 1.250, loss_g: 0.955\n",
            "[62/100]: loss_d: 1.254, loss_g: 0.933\n",
            "[63/100]: loss_d: 1.259, loss_g: 0.921\n",
            "[64/100]: loss_d: 1.253, loss_g: 0.927\n",
            "[65/100]: loss_d: 1.263, loss_g: 0.933\n",
            "[66/100]: loss_d: 1.255, loss_g: 0.937\n",
            "[67/100]: loss_d: 1.251, loss_g: 0.940\n",
            "[68/100]: loss_d: 1.259, loss_g: 0.933\n",
            "[69/100]: loss_d: 1.262, loss_g: 0.927\n",
            "[70/100]: loss_d: 1.259, loss_g: 0.919\n",
            "[71/100]: loss_d: 1.267, loss_g: 0.914\n",
            "[72/100]: loss_d: 1.261, loss_g: 0.923\n",
            "[73/100]: loss_d: 1.262, loss_g: 0.914\n",
            "[74/100]: loss_d: 1.263, loss_g: 0.927\n",
            "[75/100]: loss_d: 1.263, loss_g: 0.917\n",
            "[76/100]: loss_d: 1.265, loss_g: 0.906\n",
            "[77/100]: loss_d: 1.266, loss_g: 0.927\n",
            "[78/100]: loss_d: 1.257, loss_g: 0.934\n",
            "[79/100]: loss_d: 1.264, loss_g: 0.915\n",
            "[80/100]: loss_d: 1.268, loss_g: 0.910\n",
            "[81/100]: loss_d: 1.271, loss_g: 0.904\n",
            "[82/100]: loss_d: 1.271, loss_g: 0.895\n",
            "[83/100]: loss_d: 1.270, loss_g: 0.911\n",
            "[84/100]: loss_d: 1.265, loss_g: 0.913\n",
            "[85/100]: loss_d: 1.269, loss_g: 0.905\n",
            "[86/100]: loss_d: 1.266, loss_g: 0.914\n",
            "[87/100]: loss_d: 1.272, loss_g: 0.902\n",
            "[88/100]: loss_d: 1.277, loss_g: 0.895\n",
            "[89/100]: loss_d: 1.278, loss_g: 0.901\n",
            "[90/100]: loss_d: 1.271, loss_g: 0.907\n",
            "[91/100]: loss_d: 1.272, loss_g: 0.897\n",
            "[92/100]: loss_d: 1.275, loss_g: 0.893\n",
            "[93/100]: loss_d: 1.269, loss_g: 0.915\n",
            "[94/100]: loss_d: 1.267, loss_g: 0.907\n",
            "[95/100]: loss_d: 1.277, loss_g: 0.894\n",
            "[96/100]: loss_d: 1.279, loss_g: 0.897\n",
            "[97/100]: loss_d: 1.274, loss_g: 0.894\n",
            "[98/100]: loss_d: 1.266, loss_g: 0.918\n",
            "[99/100]: loss_d: 1.266, loss_g: 0.905\n",
            "[100/100]: loss_d: 1.272, loss_g: 0.895\n"
          ]
        }
      ]
    },
    {
      "cell_type": "code",
      "execution_count": 34,
      "metadata": {
        "colab": {
          "base_uri": "https://localhost:8080/"
        },
        "id": "aDqH2utm43U8",
        "outputId": "34593146-d1e2-47e8-f4b7-b46830c30ab8"
      },
      "outputs": [
        {
          "output_type": "stream",
          "name": "stderr",
          "text": [
            "<ipython-input-34-05f239421fa4>:8: DeprecationWarning: Starting with ImageIO v3 the behavior of this function will switch to that of iio.v3.imread. To keep the current behavior (and make this warning disappear) use `import imageio.v2 as imageio` or call `imageio.v2.imread` directly.\n",
            "  imageio.mimsave(gif_filename, [imageio.imread(f\"{image_folder}/{img}\") for img in images], duration=0.2)\n"
          ]
        }
      ],
      "source": [
        "import imageio\n",
        "import os\n",
        "\n",
        "image_folder = \"./samples\"\n",
        "gif_filename = \"gan_training.gif\"\n",
        "\n",
        "images = sorted([img for img in os.listdir(image_folder) if img.endswith(\".png\")], key=lambda x: int(x[6:-4]))\n",
        "imageio.mimsave(gif_filename, [imageio.imread(f\"{image_folder}/{img}\") for img in images], duration=0.2)\n"
      ]
    }
  ],
  "metadata": {
    "kernelspec": {
      "display_name": "Python 3",
      "name": "python3"
    },
    "language_info": {
      "codemirror_mode": {
        "name": "ipython",
        "version": 3
      },
      "file_extension": ".py",
      "mimetype": "text/x-python",
      "name": "python",
      "nbconvert_exporter": "python",
      "pygments_lexer": "ipython3",
      "version": "3.5.4"
    },
    "colab": {
      "provenance": [],
      "gpuType": "T4"
    },
    "accelerator": "GPU"
  },
  "nbformat": 4,
  "nbformat_minor": 0
}